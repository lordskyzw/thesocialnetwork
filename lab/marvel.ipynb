{
 "cells": [
  {
   "cell_type": "code",
   "execution_count": 3,
   "metadata": {},
   "outputs": [
    {
     "name": "stdout",
     "output_type": "stream",
     "text": [
      "Number of nodes: 19291\n",
      "Number of edges: 96519\n",
      "The most connected character is SPIDER-MAN/PETER PAR with 1625 connections.\n"
     ]
    }
   ],
   "source": [
    "import pandas as pd\n",
    "import networkx as nx\n",
    "\n",
    "# Replace 'path_to_your_csv.csv' with the actual path to your CSV file\n",
    "csv_file_path = 'heronetwork.csv'\n",
    "\n",
    "# Read the CSV into a pandas DataFrame and manually specify the column names\n",
    "df = pd.read_csv(csv_file_path, header=None, names=['source', 'target'])\n",
    "\n",
    "# If there are any quotation marks in the data that should be removed, you can strip them:\n",
    "df['source'] = df['source'].str.strip('\"')\n",
    "df['target'] = df['target'].str.strip('\"')\n",
    "\n",
    "# Create a new graph from the DataFrame\n",
    "G = nx.from_pandas_edgelist(df, 'source', 'target')\n",
    "\n",
    "# Now G is a NetworkX graph created from your CSV file\n",
    "\n",
    "# Examples of operations on the graph:\n",
    "num_nodes = G.number_of_nodes()\n",
    "num_edges = G.number_of_edges()\n",
    "print(f\"Number of nodes: {num_nodes}\")\n",
    "print(f\"Number of edges: {num_edges}\")\n",
    "\n",
    "# Find the node with the highest degree (most connections)\n",
    "most_connected_node = max(G.degree, key=lambda pair: pair[1])\n",
    "print(f\"The most connected character is {most_connected_node[0]} with {most_connected_node[1]} connections.\")\n"
   ]
  }
 ],
 "metadata": {
  "language_info": {
   "name": "python"
  }
 },
 "nbformat": 4,
 "nbformat_minor": 2
}
