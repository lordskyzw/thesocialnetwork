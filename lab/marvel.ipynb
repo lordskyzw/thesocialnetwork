{
 "cells": [
  {
   "cell_type": "code",
   "execution_count": 1,
   "metadata": {},
   "outputs": [
    {
     "name": "stdout",
     "output_type": "stream",
     "text": [
      "Number of nodes: 19291\n",
      "Number of edges: 96519\n",
      "The most connected character is SPIDER-MAN/PETER PAR with 1625 connections.\n"
     ]
    }
   ],
   "source": [
    "import pandas as pd\n",
    "import networkx as nx\n",
    "\n",
    "# Replace 'path_to_your_csv.csv' with the actual path to your CSV file\n",
    "csv_file_path = 'heronetwork.csv'\n",
    "\n",
    "# Read the CSV into a pandas DataFrame and manually specify the column names\n",
    "df = pd.read_csv(csv_file_path, header=None, names=['source', 'target'])\n",
    "\n",
    "# If there are any quotation marks in the data that should be removed, you can strip them:\n",
    "df['source'] = df['source'].str.strip('\"')\n",
    "df['target'] = df['target'].str.strip('\"')\n",
    "\n",
    "# Create a new graph from the DataFrame\n",
    "G = nx.from_pandas_edgelist(df, 'source', 'target')\n",
    "\n",
    "\n",
    "\n",
    "# Examples of operations on the graph:\n",
    "num_nodes = G.number_of_nodes()\n",
    "num_edges = G.number_of_edges()\n",
    "print(f\"Number of nodes: {num_nodes}\")\n",
    "print(f\"Number of edges: {num_edges}\")\n",
    "\n",
    "# Find the node with the highest degree (most connections)\n",
    "most_connected_node = max(G.degree, key=lambda pair: pair[1])\n",
    "print(f\"The most connected character is {most_connected_node[0]} with {most_connected_node[1]} connections.\")\n"
   ]
  },
  {
   "cell_type": "code",
   "execution_count": 5,
   "metadata": {},
   "outputs": [
    {
     "ename": "TypeError",
     "evalue": "'NoneType' object is not subscriptable",
     "output_type": "error",
     "traceback": [
      "\u001b[0;31m---------------------------------------------------------------------------\u001b[0m",
      "\u001b[0;31mTypeError\u001b[0m                                 Traceback (most recent call last)",
      "Cell \u001b[0;32mIn[5], line 25\u001b[0m\n\u001b[1;32m      8\u001b[0m info \u001b[38;5;241m=\u001b[39m {\n\u001b[1;32m      9\u001b[0m     \u001b[38;5;124m'\u001b[39m\u001b[38;5;124mnodes\u001b[39m\u001b[38;5;124m'\u001b[39m: \u001b[38;5;241m70\u001b[39m,\n\u001b[1;32m     10\u001b[0m     \u001b[38;5;124m'\u001b[39m\u001b[38;5;124medges\u001b[39m\u001b[38;5;124m'\u001b[39m: \u001b[38;5;241m1000\u001b[39m,\n\u001b[0;32m   (...)\u001b[0m\n\u001b[1;32m     13\u001b[0m     \u001b[38;5;124m'\u001b[39m\u001b[38;5;124mcritical\u001b[39m\u001b[38;5;124m'\u001b[39m: \u001b[38;5;124m'\u001b[39m\u001b[38;5;124mC\u001b[39m\u001b[38;5;124m'\u001b[39m,\n\u001b[1;32m     14\u001b[0m     }\n\u001b[1;32m     16\u001b[0m completion \u001b[38;5;241m=\u001b[39m client\u001b[38;5;241m.\u001b[39mchat\u001b[38;5;241m.\u001b[39mcompletions\u001b[38;5;241m.\u001b[39mcreate(\n\u001b[1;32m     17\u001b[0m   model\u001b[38;5;241m=\u001b[39m\u001b[38;5;124m\"\u001b[39m\u001b[38;5;124mgoogle/gemma-7b-it\u001b[39m\u001b[38;5;124m\"\u001b[39m,\n\u001b[1;32m     18\u001b[0m   messages\u001b[38;5;241m=\u001b[39m[\n\u001b[0;32m   (...)\u001b[0m\n\u001b[1;32m     23\u001b[0m   ],\n\u001b[1;32m     24\u001b[0m )\n\u001b[0;32m---> 25\u001b[0m \u001b[38;5;28mprint\u001b[39m(\u001b[43mcompletion\u001b[49m\u001b[38;5;241;43m.\u001b[39;49m\u001b[43mchoices\u001b[49m\u001b[43m[\u001b[49m\u001b[38;5;241;43m0\u001b[39;49m\u001b[43m]\u001b[49m\u001b[38;5;241m.\u001b[39mmessage\u001b[38;5;241m.\u001b[39mcontent)\n",
      "\u001b[0;31mTypeError\u001b[0m: 'NoneType' object is not subscriptable"
     ]
    }
   ],
   "source": [
    "from openai import OpenAI\n",
    "\n",
    "# gets API Key from environment variable OPENAI_API_KEY\n",
    "client = OpenAI(\n",
    "  base_url=\"https://openrouter.ai/api/v1\",\n",
    "  api_key=\"\",\n",
    ")\n",
    "info = {\n",
    "    'nodes': 70,\n",
    "    'edges': 1000,\n",
    "    'radius': 9,\n",
    "    'hub': \"A\",\n",
    "    'critical': 'C',\n",
    "    }\n",
    "\n",
    "completion = client.chat.completions.create(\n",
    "  model=\"google/gemma-7b-it\",\n",
    "  messages=[\n",
    "    {\n",
    "      \"role\": \"user\",\n",
    "      \"content\": f\"given the following network facts, give an overview summary and what might be interesting: NETWORK FACTS:{info}\",\n",
    "    },\n",
    "  ],\n",
    ")\n",
    "print(completion.choices[0].message.content)"
   ]
  },
  {
   "cell_type": "code",
   "execution_count": 13,
   "metadata": {},
   "outputs": [
    {
     "name": "stdout",
     "output_type": "stream",
     "text": [
      "The given network has a total of 70 nodes and 1000 edges, with a radius of 9 hub 'A' and a critical node 'C'. The network's topology is likely based on the small-world network model, given that the number of connections (4.9 x 100) is greater than the expected number of connections for a random network with 70 nodes. This connectivity further suggests that the network has tightly clustered neighborhoods, with each node having many connections within a small portion of the network.\n",
      "\n",
      "Looking at the i-th node's set A of neighbors, the expected number of neighbors in a random network of the same size as this one would be 2k/h where k=9 and h=2. Therefore, the network has a high degree of centralization, with hub 'A' connecting to many other nodes.\n",
      "\n",
      "The critical node 'C' highlights the importance of diversifying connections in a network. It's essential to maintain the interconnectivity of critical nodes by providing redundant links to minimize the risk of network failure. Hub 'A' is also important, as it appears to have the highest number of neighbors or interconnected edges within the network.\n",
      "\n",
      "In summary, the network seems to prioritize redundancy, as demonstrated by its high degree of centralization, which will be crucial for maintaining network stability and resilience. The network has several critical nodes, and redundancy measures should be in place to ensure their overall availability.\n"
     ]
    }
   ],
   "source": [
    "from openai import OpenAI\n",
    "from os import getenv\n",
    "\n",
    "# gets API Key from environment variable OPENAI_API_KEY\n",
    "client = OpenAI(\n",
    "  base_url=\"https://openrouter.ai/api/v1\",\n",
    "  api_key=\"\",\n",
    ")\n",
    "\n",
    "completion = client.chat.completions.create(\n",
    "  model=\"mistralai/mistral-7b-instruct:free\",\n",
    "  messages=[\n",
    "    {\n",
    "      \"role\": \"user\",\n",
    "      \"content\": f\"given the following facts, give an overview and insightful summary of the network: NETWORK FACTS:{info}\",\n",
    "    },\n",
    "  ],\n",
    ")\n",
    "print(completion.choices[0].message.content)"
   ]
  },
  {
   "cell_type": "code",
   "execution_count": null,
   "metadata": {},
   "outputs": [],
   "source": [
    "info['hub']= str(hub.keys()[0])"
   ]
  }
 ],
 "metadata": {
  "kernelspec": {
   "display_name": "thesocialnetwork",
   "language": "python",
   "name": "python3"
  },
  "language_info": {
   "codemirror_mode": {
    "name": "ipython",
    "version": 3
   },
   "file_extension": ".py",
   "mimetype": "text/x-python",
   "name": "python",
   "nbconvert_exporter": "python",
   "pygments_lexer": "ipython3",
   "version": "3.9.6"
  }
 },
 "nbformat": 4,
 "nbformat_minor": 2
}
