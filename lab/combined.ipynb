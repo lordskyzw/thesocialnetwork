{
 "cells": [
  {
   "cell_type": "code",
   "execution_count": 9,
   "metadata": {},
   "outputs": [],
   "source": [
    "import networkx as nx\n",
    "\n",
    "G_fb = nx.read_edgelist(\"facebook_combined.txt\", create_using = nx.Graph(), nodetype=int)\n"
   ]
  },
  {
   "cell_type": "code",
   "execution_count": 10,
   "metadata": {},
   "outputs": [
    {
     "name": "stdout",
     "output_type": "stream",
     "text": [
      "Graph with 4039 nodes and 88234 edges\n"
     ]
    }
   ],
   "source": [
    "print(G_fb)"
   ]
  },
  {
   "cell_type": "code",
   "execution_count": 12,
   "metadata": {},
   "outputs": [
    {
     "ename": "TypeError",
     "evalue": "'module' object is not callable",
     "output_type": "error",
     "traceback": [
      "\u001b[0;31m---------------------------------------------------------------------------\u001b[0m",
      "\u001b[0;31mTypeError\u001b[0m                                 Traceback (most recent call last)",
      "Cell \u001b[0;32mIn[12], line 7\u001b[0m\n\u001b[1;32m      5\u001b[0m node_color \u001b[38;5;241m=\u001b[39m [\u001b[38;5;241m20000.0\u001b[39m \u001b[38;5;241m*\u001b[39m G_fb\u001b[38;5;241m.\u001b[39mdegree(v) \u001b[38;5;28;01mfor\u001b[39;00m v \u001b[38;5;129;01min\u001b[39;00m G_fb]\n\u001b[1;32m      6\u001b[0m node_size \u001b[38;5;241m=\u001b[39m  [v \u001b[38;5;241m*\u001b[39m \u001b[38;5;241m10000\u001b[39m \u001b[38;5;28;01mfor\u001b[39;00m v \u001b[38;5;129;01min\u001b[39;00m betCent\u001b[38;5;241m.\u001b[39mvalues()]\n\u001b[0;32m----> 7\u001b[0m \u001b[43mplt\u001b[49m\u001b[43m(\u001b[49m\u001b[43mfigsize\u001b[49m\u001b[38;5;241;43m=\u001b[39;49m\u001b[43m(\u001b[49m\u001b[38;5;241;43m20\u001b[39;49m\u001b[43m,\u001b[49m\u001b[38;5;241;43m20\u001b[39;49m\u001b[43m)\u001b[49m\u001b[43m)\u001b[49m\n\u001b[1;32m      8\u001b[0m nx\u001b[38;5;241m.\u001b[39mdraw_networkx(G_fb, pos\u001b[38;5;241m=\u001b[39mpos, with_labels\u001b[38;5;241m=\u001b[39m\u001b[38;5;28;01mFalse\u001b[39;00m,\n\u001b[1;32m      9\u001b[0m                  node_color\u001b[38;5;241m=\u001b[39mnode_color,\n\u001b[1;32m     10\u001b[0m                  node_size\u001b[38;5;241m=\u001b[39mnode_size )\n\u001b[1;32m     11\u001b[0m plt\u001b[38;5;241m.\u001b[39maxis(\u001b[38;5;124m'\u001b[39m\u001b[38;5;124moff\u001b[39m\u001b[38;5;124m'\u001b[39m)\n",
      "\u001b[0;31mTypeError\u001b[0m: 'module' object is not callable"
     ]
    }
   ],
   "source": [
    "import matplotlib as plt\n",
    "\n",
    "pos = nx.spring_layout(G_fb)\n",
    "betCent = nx.betweenness_centrality(G_fb, normalized=True, endpoints=True)\n",
    "node_color = [20000.0 * G_fb.degree(v) for v in G_fb]\n",
    "node_size =  [v * 10000 for v in betCent.values()]\n",
    "plt(figsize=(20,20))\n",
    "nx.draw_networkx(G_fb, pos=pos, with_labels=False,\n",
    "                 node_color=node_color,\n",
    "                 node_size=node_size )\n",
    "plt.axis('off')\n"
   ]
  }
 ],
 "metadata": {
  "kernelspec": {
   "display_name": "thesocialnetwork",
   "language": "python",
   "name": "python3"
  },
  "language_info": {
   "codemirror_mode": {
    "name": "ipython",
    "version": 3
   },
   "file_extension": ".py",
   "mimetype": "text/x-python",
   "name": "python",
   "nbconvert_exporter": "python",
   "pygments_lexer": "ipython3",
   "version": "3.9.6"
  }
 },
 "nbformat": 4,
 "nbformat_minor": 2
}
