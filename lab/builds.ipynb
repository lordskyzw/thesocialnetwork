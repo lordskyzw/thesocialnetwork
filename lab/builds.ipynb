{
 "cells": [
  {
   "cell_type": "code",
   "execution_count": null,
   "metadata": {},
   "outputs": [],
   "source": [
    "import networkx as nx\n",
    "G_symmetric = nx.Graph()\n",
    "G_symmetric.add_edge('Amitabh Bachchan','Abhishek Bachchan')\n",
    "G_symmetric.add_edge('Amitabh Bachchan','Aamir Khan')\n",
    "G_symmetric.add_edge('Amitabh Bachchan','Akshay Kumar')\n",
    "G_symmetric.add_edge('Amitabh Bachchan','Dev Anand')\n",
    "G_symmetric.add_edge('Abhishek Bachchan','Aamir Khan')\n",
    "G_symmetric.add_edge('Abhishek Bachchan','Akshay Kumar')\n",
    "G_symmetric.add_edge('Abhishek Bachchan','Dev Anand')\n",
    "G_symmetric.add_edge('Dev Anand','Aamir Khan')"
   ]
  }
 ],
 "metadata": {
  "kernelspec": {
   "display_name": "thesocialnetwork",
   "language": "python",
   "name": "python3"
  },
  "language_info": {
   "name": "python",
   "version": "3.9.6"
  }
 },
 "nbformat": 4,
 "nbformat_minor": 2
}
